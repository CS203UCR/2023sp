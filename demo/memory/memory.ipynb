{
 "cells": [
  {
   "cell_type": "code",
   "execution_count": 57,
   "id": "39bd05fd-cae3-4bed-9b16-0114306cfc72",
   "metadata": {
    "editable": false,
    "init_cell": true,
    "tags": []
   },
   "outputs": [
    {
     "name": "stdout",
     "output_type": "stream",
     "text": [
      "The autoreload extension is already loaded. To reload it, use:\n",
      "  %reload_ext autoreload\n"
     ]
    }
   ],
   "source": [
    "# Please execute/shift-return this cell everytime you run the notebook.  Don't edit it. \n",
    "%load_ext autoreload\n",
    "%autoreload 2\n",
    "from notebook import * "
   ]
  },
  {
   "cell_type": "markdown",
   "id": "cc91b7b4-d577-4799-90e0-8caf96cf580c",
   "metadata": {},
   "source": [
    "# Memory hierarchy\n",
    "\n",
    "## How much time did I spent on \"memory\"\n",
    "\n",
    "Remember our demo long time ago?"
   ]
  },
  {
   "cell_type": "code",
   "execution_count": null,
   "id": "721b5672-7a0b-421d-b592-dfc57f24d787",
   "metadata": {},
   "outputs": [],
   "source": [
    "compare([do_render_code(\"./madd/madd_A.c\", lang=\"c++\", show=[\"//START\", \"//END\"]),do_render_code(\"./madd/madd_B.c\", lang=\"c++\", show=[\"//START\", \"//END\"])])"
   ]
  },
  {
   "cell_type": "code",
   "execution_count": null,
   "id": "9ac4bfe2-49ab-4ac7-972d-5660bc361401",
   "metadata": {},
   "outputs": [],
   "source": [
    "render_code(\"./mv/matvec.c\", lang=\"c++\", show=[\"//I_FIRST_START\", \"//I_FIRST_END\"])"
   ]
  },
  {
   "cell_type": "code",
   "execution_count": null,
   "id": "4c98ee9b-bc61-424a-947f-f7f165128697",
   "metadata": {},
   "outputs": [],
   "source": [
    "! cd mv; make clean; make; ./matvec 16 1 1 >> mv_addresses.csv ; head -n 100 mv_addresses.csv"
   ]
  },
  {
   "cell_type": "code",
   "execution_count": null,
   "id": "95727f0e-8abc-4df0-a8ec-550f3504dcee",
   "metadata": {},
   "outputs": [],
   "source": [
    "! cd mv; ./matvec 16 1 0 >> mv_addresses_j_first.csv ; head -n 100 mv_addresses_j_first.csv"
   ]
  },
  {
   "cell_type": "markdown",
   "id": "a5018288-6079-4125-98a1-4f9a2b0b3805",
   "metadata": {
    "tags": []
   },
   "source": [
    "## The memory hierarchy of my computer"
   ]
  },
  {
   "cell_type": "code",
   "execution_count": null,
   "id": "b3530190-c853-4c69-85de-07e8880ca00a",
   "metadata": {},
   "outputs": [],
   "source": [
    "# Hung-Wei's Desktop\n",
    "! lscpu | grep \"Model name\"\n",
    "! getconf -a | grep CACHE"
   ]
  },
  {
   "cell_type": "code",
   "execution_count": null,
   "id": "774a19b0-8788-418e-af2d-0ec749091dd6",
   "metadata": {},
   "outputs": [],
   "source": [
    "# Your CS203 Cluster\n",
    "! cs203 job run \"lscpu | grep 'Model name'; getconf -a | grep CACHE\""
   ]
  },
  {
   "cell_type": "code",
   "execution_count": null,
   "id": "27ad0dd6-409c-4467-8acd-9cb0f9eceaf2",
   "metadata": {},
   "outputs": [],
   "source": [
    "! ssh htseng@nano \"lscpu | grep 'Model name'; getconf -a | grep CACHE\""
   ]
  },
  {
   "cell_type": "markdown",
   "id": "ee8398fe-6a0e-4e7b-ac3b-5170dc8dc5cb",
   "metadata": {},
   "source": [
    "## How blocks are stored in a cache?\n",
    "\n",
    "How these address are stored \"if\" they're in a direct-mapped, 16B-sized blocks, 16-block cache?"
   ]
  },
  {
   "cell_type": "code",
   "execution_count": null,
   "id": "e103b0e7-9e5a-4250-a790-2e25f901557c",
   "metadata": {},
   "outputs": [],
   "source": [
    "! cd mv; make clean; make; ./matvec 16 1 "
   ]
  },
  {
   "cell_type": "code",
   "execution_count": null,
   "id": "71c37f3e-067e-4cc2-a413-da2112259597",
   "metadata": {},
   "outputs": [],
   "source": [
    "!echo \"element,address\"> addresses.csv; ./mv/matvec 16 1 >> addresses.csv\n",
    "df = pd.read_csv(\"addresses.csv\",skipfooter=1,engine='python')\n",
    "df[\"address\"] = df[\"address\"].str.replace('0x','')\n",
    "df[\"address\"]=df[[\"address\"]].apply(lambda x: x.astype(str).map(lambda x: int(x, base=16)))\n",
    "# only show the first N addresses \n",
    "#N = 32\n",
    "#df2 = df2.iloc[:N]\n",
    "block_size = 16\n",
    "offset_bits = int(math.log2(block_size))\n",
    "number_of_blocks = 16\n",
    "index_bits = int(math.log2(number_of_blocks))\n",
    "df[\"tag\"]=(df[\"address\"].apply(lambda x: x >> (offset_bits+index_bits)))\n",
    "df[\"tag\"] = df[\"tag\"].apply(lambda x: hex(x))\n",
    "df[\"index\"] = df[\"address\"].apply(lambda x: hex((x>>offset_bits) % number_of_blocks))\n",
    "df[\"address\"] = df[\"address\"].apply(lambda x: hex(x))\n",
    "display_df_mono(df)"
   ]
  },
  {
   "cell_type": "markdown",
   "id": "40385bd6-6446-479e-8505-9d758ce3e274",
   "metadata": {},
   "source": [
    "What if we have a 2-way, 16-byte blocked, 16-block cache?"
   ]
  },
  {
   "cell_type": "code",
   "execution_count": null,
   "id": "9a5fcde3-6f5e-4ba7-a416-cd9b456acc8a",
   "metadata": {},
   "outputs": [],
   "source": [
    "df = pd.read_csv(\"addresses.csv\",skipfooter=1,engine='python')\n",
    "df[\"address\"] = df[\"address\"].str.replace('0x','')\n",
    "df[\"address\"]=df[[\"address\"]].apply(lambda x: x.astype(str).map(lambda x: int(x, base=16)))\n",
    "# only show the first N addresses \n",
    "#N = 32\n",
    "#df2 = df2.iloc[:N]\n",
    "block_size = 16\n",
    "offset_bits = int(math.log2(block_size))\n",
    "number_of_blocks = 16\n",
    "way_assoc=2\n",
    "number_of_sets = number_of_blocks/way_assoc\n",
    "index_bits = int(math.log2(number_of_sets))\n",
    "df[\"tag\"]=(df[\"address\"].apply(lambda x: x >> (offset_bits+index_bits)))\n",
    "df[\"tag\"] = df[\"tag\"].apply(lambda x: hex(x))\n",
    "df[\"index\"] = df[\"address\"].apply(lambda x: hex((x>>offset_bits) % number_of_blocks))\n",
    "df[\"address\"] = df[\"address\"].apply(lambda x: hex(x))\n",
    "display_df_mono(df)"
   ]
  },
  {
   "cell_type": "markdown",
   "id": "ff7ecd1c-3df2-432c-9836-96b4a12417aa",
   "metadata": {},
   "source": [
    "## Cache performance of code on \"real machines\"\n",
    "\n",
    "### NVIDIA Jetson Nano -- Tegra X1"
   ]
  },
  {
   "cell_type": "code",
   "execution_count": 58,
   "id": "c95d959a-7d2b-4007-b994-d6df936c95bb",
   "metadata": {},
   "outputs": [
    {
     "data": {
      "text/html": [
       "<style>pre { line-height: 125%; }\n",
       "td.linenos .normal { color: inherit; background-color: transparent; padding-left: 5px; padding-right: 5px; }\n",
       "span.linenos { color: inherit; background-color: transparent; padding-left: 5px; padding-right: 5px; }\n",
       "td.linenos .special { color: #000000; background-color: #ffffc0; padding-left: 5px; padding-right: 5px; }\n",
       "span.linenos.special { color: #000000; background-color: #ffffc0; padding-left: 5px; padding-right: 5px; }\n",
       ".output_html .hll { background-color: #ffffcc }\n",
       ".output_html { background: #f8f8f8; }\n",
       ".output_html .c { color: #3D7B7B; font-style: italic } /* Comment */\n",
       ".output_html .err { border: 1px solid #FF0000 } /* Error */\n",
       ".output_html .k { color: #008000; font-weight: bold } /* Keyword */\n",
       ".output_html .o { color: #666666 } /* Operator */\n",
       ".output_html .ch { color: #3D7B7B; font-style: italic } /* Comment.Hashbang */\n",
       ".output_html .cm { color: #3D7B7B; font-style: italic } /* Comment.Multiline */\n",
       ".output_html .cp { color: #9C6500 } /* Comment.Preproc */\n",
       ".output_html .cpf { color: #3D7B7B; font-style: italic } /* Comment.PreprocFile */\n",
       ".output_html .c1 { color: #3D7B7B; font-style: italic } /* Comment.Single */\n",
       ".output_html .cs { color: #3D7B7B; font-style: italic } /* Comment.Special */\n",
       ".output_html .gd { color: #A00000 } /* Generic.Deleted */\n",
       ".output_html .ge { font-style: italic } /* Generic.Emph */\n",
       ".output_html .gr { color: #E40000 } /* Generic.Error */\n",
       ".output_html .gh { color: #000080; font-weight: bold } /* Generic.Heading */\n",
       ".output_html .gi { color: #008400 } /* Generic.Inserted */\n",
       ".output_html .go { color: #717171 } /* Generic.Output */\n",
       ".output_html .gp { color: #000080; font-weight: bold } /* Generic.Prompt */\n",
       ".output_html .gs { font-weight: bold } /* Generic.Strong */\n",
       ".output_html .gu { color: #800080; font-weight: bold } /* Generic.Subheading */\n",
       ".output_html .gt { color: #0044DD } /* Generic.Traceback */\n",
       ".output_html .kc { color: #008000; font-weight: bold } /* Keyword.Constant */\n",
       ".output_html .kd { color: #008000; font-weight: bold } /* Keyword.Declaration */\n",
       ".output_html .kn { color: #008000; font-weight: bold } /* Keyword.Namespace */\n",
       ".output_html .kp { color: #008000 } /* Keyword.Pseudo */\n",
       ".output_html .kr { color: #008000; font-weight: bold } /* Keyword.Reserved */\n",
       ".output_html .kt { color: #B00040 } /* Keyword.Type */\n",
       ".output_html .m { color: #666666 } /* Literal.Number */\n",
       ".output_html .s { color: #BA2121 } /* Literal.String */\n",
       ".output_html .na { color: #687822 } /* Name.Attribute */\n",
       ".output_html .nb { color: #008000 } /* Name.Builtin */\n",
       ".output_html .nc { color: #0000FF; font-weight: bold } /* Name.Class */\n",
       ".output_html .no { color: #880000 } /* Name.Constant */\n",
       ".output_html .nd { color: #AA22FF } /* Name.Decorator */\n",
       ".output_html .ni { color: #717171; font-weight: bold } /* Name.Entity */\n",
       ".output_html .ne { color: #CB3F38; font-weight: bold } /* Name.Exception */\n",
       ".output_html .nf { color: #0000FF } /* Name.Function */\n",
       ".output_html .nl { color: #767600 } /* Name.Label */\n",
       ".output_html .nn { color: #0000FF; font-weight: bold } /* Name.Namespace */\n",
       ".output_html .nt { color: #008000; font-weight: bold } /* Name.Tag */\n",
       ".output_html .nv { color: #19177C } /* Name.Variable */\n",
       ".output_html .ow { color: #AA22FF; font-weight: bold } /* Operator.Word */\n",
       ".output_html .w { color: #bbbbbb } /* Text.Whitespace */\n",
       ".output_html .mb { color: #666666 } /* Literal.Number.Bin */\n",
       ".output_html .mf { color: #666666 } /* Literal.Number.Float */\n",
       ".output_html .mh { color: #666666 } /* Literal.Number.Hex */\n",
       ".output_html .mi { color: #666666 } /* Literal.Number.Integer */\n",
       ".output_html .mo { color: #666666 } /* Literal.Number.Oct */\n",
       ".output_html .sa { color: #BA2121 } /* Literal.String.Affix */\n",
       ".output_html .sb { color: #BA2121 } /* Literal.String.Backtick */\n",
       ".output_html .sc { color: #BA2121 } /* Literal.String.Char */\n",
       ".output_html .dl { color: #BA2121 } /* Literal.String.Delimiter */\n",
       ".output_html .sd { color: #BA2121; font-style: italic } /* Literal.String.Doc */\n",
       ".output_html .s2 { color: #BA2121 } /* Literal.String.Double */\n",
       ".output_html .se { color: #AA5D1F; font-weight: bold } /* Literal.String.Escape */\n",
       ".output_html .sh { color: #BA2121 } /* Literal.String.Heredoc */\n",
       ".output_html .si { color: #A45A77; font-weight: bold } /* Literal.String.Interpol */\n",
       ".output_html .sx { color: #008000 } /* Literal.String.Other */\n",
       ".output_html .sr { color: #A45A77 } /* Literal.String.Regex */\n",
       ".output_html .s1 { color: #BA2121 } /* Literal.String.Single */\n",
       ".output_html .ss { color: #19177C } /* Literal.String.Symbol */\n",
       ".output_html .bp { color: #008000 } /* Name.Builtin.Pseudo */\n",
       ".output_html .fm { color: #0000FF } /* Name.Function.Magic */\n",
       ".output_html .vc { color: #19177C } /* Name.Variable.Class */\n",
       ".output_html .vg { color: #19177C } /* Name.Variable.Global */\n",
       ".output_html .vi { color: #19177C } /* Name.Variable.Instance */\n",
       ".output_html .vm { color: #19177C } /* Name.Variable.Magic */\n",
       ".output_html .il { color: #666666 } /* Literal.Number.Integer.Long */</style><div class=\"highlight\"><pre><span></span><span class=\"c1\">// 4way_madd/madd.c:51-63 (13 lines)</span>\n",
       "<span class=\"w\">  </span><span class=\"c1\">//START</span>\n",
       "<span class=\"w\">    </span><span class=\"k\">for</span><span class=\"p\">(</span><span class=\"n\">i</span><span class=\"w\"> </span><span class=\"o\">=</span><span class=\"w\"> </span><span class=\"mi\">0</span><span class=\"p\">;</span><span class=\"w\"> </span><span class=\"n\">i</span><span class=\"w\"> </span><span class=\"o\">&lt;</span><span class=\"w\"> </span><span class=\"n\">RUN_ARRAY_SIZE</span><span class=\"p\">;</span><span class=\"w\"> </span><span class=\"n\">i</span><span class=\"o\">++</span><span class=\"p\">)</span><span class=\"w\"></span>\n",
       "<span class=\"w\">    </span><span class=\"p\">{</span><span class=\"w\"></span>\n",
       "<span class=\"w\">        </span><span class=\"n\">e</span><span class=\"p\">[</span><span class=\"n\">i</span><span class=\"p\">]</span><span class=\"w\"> </span><span class=\"o\">=</span><span class=\"w\"> </span><span class=\"p\">(</span><span class=\"n\">a</span><span class=\"p\">[</span><span class=\"n\">i</span><span class=\"p\">]</span><span class=\"w\"> </span><span class=\"o\">*</span><span class=\"w\"> </span><span class=\"n\">b</span><span class=\"p\">[</span><span class=\"n\">i</span><span class=\"p\">]</span><span class=\"w\"> </span><span class=\"o\">+</span><span class=\"w\"> </span><span class=\"n\">c</span><span class=\"p\">[</span><span class=\"n\">i</span><span class=\"p\">])</span><span class=\"o\">/</span><span class=\"n\">d</span><span class=\"p\">[</span><span class=\"n\">i</span><span class=\"p\">];</span><span class=\"w\"></span>\n",
       "<span class=\"cp\">#ifdef DUMP</span>\n",
       "<span class=\"w\">        </span><span class=\"n\">fprintf</span><span class=\"p\">(</span><span class=\"n\">stderr</span><span class=\"p\">,</span><span class=\"w\"> </span><span class=\"s\">&quot;a[%d], %p</span><span class=\"se\">\\n</span><span class=\"s\">&quot;</span><span class=\"p\">,</span><span class=\"n\">i</span><span class=\"p\">,</span><span class=\"o\">&amp;</span><span class=\"n\">a</span><span class=\"p\">[</span><span class=\"n\">i</span><span class=\"p\">]);</span><span class=\"w\"></span>\n",
       "<span class=\"w\">        </span><span class=\"n\">fprintf</span><span class=\"p\">(</span><span class=\"n\">stderr</span><span class=\"p\">,</span><span class=\"w\"> </span><span class=\"s\">&quot;b[%d], %p</span><span class=\"se\">\\n</span><span class=\"s\">&quot;</span><span class=\"p\">,</span><span class=\"n\">i</span><span class=\"p\">,</span><span class=\"o\">&amp;</span><span class=\"n\">b</span><span class=\"p\">[</span><span class=\"n\">i</span><span class=\"p\">]);</span><span class=\"w\"></span>\n",
       "<span class=\"w\">        </span><span class=\"n\">fprintf</span><span class=\"p\">(</span><span class=\"n\">stderr</span><span class=\"p\">,</span><span class=\"w\"> </span><span class=\"s\">&quot;c[%d], %p</span><span class=\"se\">\\n</span><span class=\"s\">&quot;</span><span class=\"p\">,</span><span class=\"n\">i</span><span class=\"p\">,</span><span class=\"o\">&amp;</span><span class=\"n\">c</span><span class=\"p\">[</span><span class=\"n\">i</span><span class=\"p\">]);</span><span class=\"w\"></span>\n",
       "<span class=\"w\">        </span><span class=\"n\">fprintf</span><span class=\"p\">(</span><span class=\"n\">stderr</span><span class=\"p\">,</span><span class=\"w\"> </span><span class=\"s\">&quot;d[%d], %p</span><span class=\"se\">\\n</span><span class=\"s\">&quot;</span><span class=\"p\">,</span><span class=\"n\">i</span><span class=\"p\">,</span><span class=\"o\">&amp;</span><span class=\"n\">d</span><span class=\"p\">[</span><span class=\"n\">i</span><span class=\"p\">]);</span><span class=\"w\"></span>\n",
       "<span class=\"w\">        </span><span class=\"n\">fprintf</span><span class=\"p\">(</span><span class=\"n\">stderr</span><span class=\"p\">,</span><span class=\"w\"> </span><span class=\"s\">&quot;e[%d], %p</span><span class=\"se\">\\n</span><span class=\"s\">&quot;</span><span class=\"p\">,</span><span class=\"n\">i</span><span class=\"p\">,</span><span class=\"o\">&amp;</span><span class=\"n\">e</span><span class=\"p\">[</span><span class=\"n\">i</span><span class=\"p\">]);</span><span class=\"w\"></span>\n",
       "<span class=\"cp\">#endif</span>\n",
       "<span class=\"w\">    </span><span class=\"p\">}</span><span class=\"w\"></span>\n",
       "<span class=\"w\">  </span><span class=\"c1\">//END</span>\n",
       "</pre></div>\n"
      ],
      "text/latex": [
       "\\begin{Verbatim}[commandchars=\\\\\\{\\}]\n",
       "\\PY{c+c1}{// 4way\\PYZus{}madd/madd.c:51\\PYZhy{}63 (13 lines)}\n",
       "\\PY{+w}{  }\\PY{c+c1}{//START}\n",
       "\\PY{+w}{    }\\PY{k}{for}\\PY{p}{(}\\PY{n}{i}\\PY{+w}{ }\\PY{o}{=}\\PY{+w}{ }\\PY{l+m+mi}{0}\\PY{p}{;}\\PY{+w}{ }\\PY{n}{i}\\PY{+w}{ }\\PY{o}{\\PYZlt{}}\\PY{+w}{ }\\PY{n}{RUN\\PYZus{}ARRAY\\PYZus{}SIZE}\\PY{p}{;}\\PY{+w}{ }\\PY{n}{i}\\PY{o}{+}\\PY{o}{+}\\PY{p}{)}\n",
       "\\PY{+w}{    }\\PY{p}{\\PYZob{}}\n",
       "\\PY{+w}{        }\\PY{n}{e}\\PY{p}{[}\\PY{n}{i}\\PY{p}{]}\\PY{+w}{ }\\PY{o}{=}\\PY{+w}{ }\\PY{p}{(}\\PY{n}{a}\\PY{p}{[}\\PY{n}{i}\\PY{p}{]}\\PY{+w}{ }\\PY{o}{*}\\PY{+w}{ }\\PY{n}{b}\\PY{p}{[}\\PY{n}{i}\\PY{p}{]}\\PY{+w}{ }\\PY{o}{+}\\PY{+w}{ }\\PY{n}{c}\\PY{p}{[}\\PY{n}{i}\\PY{p}{]}\\PY{p}{)}\\PY{o}{/}\\PY{n}{d}\\PY{p}{[}\\PY{n}{i}\\PY{p}{]}\\PY{p}{;}\n",
       "\\PY{c+cp}{\\PYZsh{}}\\PY{c+cp}{ifdef DUMP}\n",
       "\\PY{+w}{        }\\PY{n}{fprintf}\\PY{p}{(}\\PY{n}{stderr}\\PY{p}{,}\\PY{+w}{ }\\PY{l+s}{\\PYZdq{}}\\PY{l+s}{a[\\PYZpc{}d], \\PYZpc{}p}\\PY{l+s+se}{\\PYZbs{}n}\\PY{l+s}{\\PYZdq{}}\\PY{p}{,}\\PY{n}{i}\\PY{p}{,}\\PY{o}{\\PYZam{}}\\PY{n}{a}\\PY{p}{[}\\PY{n}{i}\\PY{p}{]}\\PY{p}{)}\\PY{p}{;}\n",
       "\\PY{+w}{        }\\PY{n}{fprintf}\\PY{p}{(}\\PY{n}{stderr}\\PY{p}{,}\\PY{+w}{ }\\PY{l+s}{\\PYZdq{}}\\PY{l+s}{b[\\PYZpc{}d], \\PYZpc{}p}\\PY{l+s+se}{\\PYZbs{}n}\\PY{l+s}{\\PYZdq{}}\\PY{p}{,}\\PY{n}{i}\\PY{p}{,}\\PY{o}{\\PYZam{}}\\PY{n}{b}\\PY{p}{[}\\PY{n}{i}\\PY{p}{]}\\PY{p}{)}\\PY{p}{;}\n",
       "\\PY{+w}{        }\\PY{n}{fprintf}\\PY{p}{(}\\PY{n}{stderr}\\PY{p}{,}\\PY{+w}{ }\\PY{l+s}{\\PYZdq{}}\\PY{l+s}{c[\\PYZpc{}d], \\PYZpc{}p}\\PY{l+s+se}{\\PYZbs{}n}\\PY{l+s}{\\PYZdq{}}\\PY{p}{,}\\PY{n}{i}\\PY{p}{,}\\PY{o}{\\PYZam{}}\\PY{n}{c}\\PY{p}{[}\\PY{n}{i}\\PY{p}{]}\\PY{p}{)}\\PY{p}{;}\n",
       "\\PY{+w}{        }\\PY{n}{fprintf}\\PY{p}{(}\\PY{n}{stderr}\\PY{p}{,}\\PY{+w}{ }\\PY{l+s}{\\PYZdq{}}\\PY{l+s}{d[\\PYZpc{}d], \\PYZpc{}p}\\PY{l+s+se}{\\PYZbs{}n}\\PY{l+s}{\\PYZdq{}}\\PY{p}{,}\\PY{n}{i}\\PY{p}{,}\\PY{o}{\\PYZam{}}\\PY{n}{d}\\PY{p}{[}\\PY{n}{i}\\PY{p}{]}\\PY{p}{)}\\PY{p}{;}\n",
       "\\PY{+w}{        }\\PY{n}{fprintf}\\PY{p}{(}\\PY{n}{stderr}\\PY{p}{,}\\PY{+w}{ }\\PY{l+s}{\\PYZdq{}}\\PY{l+s}{e[\\PYZpc{}d], \\PYZpc{}p}\\PY{l+s+se}{\\PYZbs{}n}\\PY{l+s}{\\PYZdq{}}\\PY{p}{,}\\PY{n}{i}\\PY{p}{,}\\PY{o}{\\PYZam{}}\\PY{n}{e}\\PY{p}{[}\\PY{n}{i}\\PY{p}{]}\\PY{p}{)}\\PY{p}{;}\n",
       "\\PY{c+cp}{\\PYZsh{}}\\PY{c+cp}{endif}\n",
       "\\PY{+w}{    }\\PY{p}{\\PYZcb{}}\n",
       "\\PY{+w}{  }\\PY{c+c1}{//END}\n",
       "\\end{Verbatim}\n"
      ],
      "text/plain": [
       "// 4way_madd/madd.c:51-63 (13 lines)\n",
       "  //START\n",
       "    for(i = 0; i < RUN_ARRAY_SIZE; i++)\n",
       "    {\n",
       "        e[i] = (a[i] * b[i] + c[i])/d[i];\n",
       "#ifdef DUMP\n",
       "        fprintf(stderr, \"a[%d], %p\\n\",i,&a[i]);\n",
       "        fprintf(stderr, \"b[%d], %p\\n\",i,&b[i]);\n",
       "        fprintf(stderr, \"c[%d], %p\\n\",i,&c[i]);\n",
       "        fprintf(stderr, \"d[%d], %p\\n\",i,&d[i]);\n",
       "        fprintf(stderr, \"e[%d], %p\\n\",i,&e[i]);\n",
       "#endif\n",
       "    }\n",
       "  //END"
      ]
     },
     "metadata": {},
     "output_type": "display_data"
    }
   ],
   "source": [
    "render_code(\"4way_madd/madd.c\", show=[\"//START\",\"//END\"])"
   ]
  },
  {
   "cell_type": "markdown",
   "id": "4caeca16-9208-41d5-9c17-f3c98b538442",
   "metadata": {},
   "source": [
    "Let's run it without the above loop code to figure the baseline memory accesses without running the loop on a Jetson nano.\n",
    "\n",
    "#### Run without the 4-way matrix add loop code."
   ]
  },
  {
   "cell_type": "code",
   "execution_count": 59,
   "id": "69624b82-b48c-448a-841b-6f1da2c98d38",
   "metadata": {},
   "outputs": [
    {
     "name": "stdout",
     "output_type": "stream",
     "text": [
      "Architecture:        aarch64\n",
      "Byte Order:          Little Endian\n",
      "CPU(s):              4\n",
      "On-line CPU(s) list: 0-3\n",
      "Thread(s) per core:  1\n",
      "Core(s) per socket:  4\n",
      "Socket(s):           1\n",
      "Vendor ID:           ARM\n",
      "Model:               1\n",
      "Model name:          Cortex-A57\n",
      "Stepping:            r1p1\n",
      "CPU max MHz:         1479.0000\n",
      "CPU min MHz:         102.0000\n",
      "BogoMIPS:            38.40\n",
      "L1d cache:           32K\n",
      "L1i cache:           48K\n",
      "L2 cache:            2048K\n",
      "Flags:               fp asimd evtstrm aes pmull sha1 sha2 crc32\n",
      "rm -f madd_intel madd_nano *_O3 *~ madd_A_fission cachegrind* *.perf madd_dump\n",
      "cc -O3 -DHAVE_LINUX_PERF_EVENT_H -g -DNANO madd.c -o madd_nano\n",
      "==27725== Cachegrind, a cache and branch-prediction profiler\n",
      "==27725== Copyright (C) 2002-2017, and GNU GPL'd, by Nicholas Nethercote et al.\n",
      "==27725== Using Valgrind-3.13.0 and LibVEX; rerun with -h for copyright info\n",
      "==27725== Command: ./madd_nano 16384 0\n",
      "==27725== \n",
      "--27725-- Warning: Cannot auto-detect cache config, using defaults.\n",
      "--27725--          Run with -v to see.\n",
      "44.000000\n",
      "==27725== \n",
      "==27725== I   refs:      6,804,987\n",
      "==27725== I1  misses:        1,146\n",
      "==27725== LLi misses:        1,047\n",
      "==27725== I1  miss rate:      0.02%\n",
      "==27725== LLi miss rate:      0.02%\n",
      "==27725== \n",
      "==27725== D   refs:      3,002,275  (1,842,762 rd   + 1,159,513 wr)\n",
      "==27725== D1  misses:       13,663  (    2,744 rd   +    10,919 wr)\n",
      "==27725== LLd misses:       12,971  (    2,124 rd   +    10,847 wr)\n",
      "==27725== D1  miss rate:       0.5% (      0.1%     +       0.9%  )\n",
      "==27725== LLd miss rate:       0.4% (      0.1%     +       0.9%  )\n",
      "==27725== \n",
      "==27725== LL refs:          14,809  (    3,890 rd   +    10,919 wr)\n",
      "==27725== LL misses:        14,018  (    3,171 rd   +    10,847 wr)\n",
      "==27725== LL miss rate:        0.1% (      0.0%     +       0.9%  )\n"
     ]
    }
   ],
   "source": [
    "# Run it \"without\" the above code.\n",
    "! ssh htseng@nano \"lscpu; cd courses/CS203/demo/memory/4way_madd/; make clean madd_nano; valgrind --tool=cachegrind ./madd_nano 16384 0 \""
   ]
  },
  {
   "cell_type": "markdown",
   "id": "88c871fe-474a-4852-a963-80df309c577e",
   "metadata": {},
   "source": [
    "Too much detail! Let's use grep to narrow down the outputs."
   ]
  },
  {
   "cell_type": "code",
   "execution_count": 60,
   "id": "ce2792de-baa4-4bbb-9980-e36d1b267d37",
   "metadata": {},
   "outputs": [
    {
     "name": "stdout",
     "output_type": "stream",
     "text": [
      "==28165== D   refs:      1,527,706  (941,636 rd   + 586,070 wr)\n",
      "==28165== D1  misses:        8,543  (  2,744 rd   +   5,799 wr)\n",
      "==28165== D1  miss rate:       0.6% (    0.3%     +     1.0%  )\n"
     ]
    }
   ],
   "source": [
    "# Run it \"without\" the above code.\n",
    "! ssh htseng@nano \"cd courses/CS203/demo/memory/4way_madd/; valgrind --tool=cachegrind ./madd_nano 8192 0 >& nano_without_loop.perf; grep 'D   refs\\|D1' nano_without_loop.perf\""
   ]
  },
  {
   "cell_type": "markdown",
   "id": "2c5138d7-3835-4ce7-b1d0-695de463f221",
   "metadata": {},
   "source": [
    "Let's run it with the above loop code again and observe the changes in L1 cache misses/accesses\n",
    "\n",
    "#### Run with the 4-way matrix add loop code."
   ]
  },
  {
   "cell_type": "code",
   "execution_count": 61,
   "id": "ecb85bd2-1a1b-48f5-80f6-1e0483bdd89e",
   "metadata": {},
   "outputs": [
    {
     "name": "stdout",
     "output_type": "stream",
     "text": [
      "==28320== D   refs:      1,548,192  (958,025 rd   + 590,167 wr)\n",
      "==28320== D1  misses:       29,036  ( 19,138 rd   +   9,898 wr)\n",
      "==28320== D1  miss rate:       1.9% (    2.0%     +     1.7%  )\n"
     ]
    }
   ],
   "source": [
    "! ssh htseng@nano \"cd courses/CS203/demo/memory/4way_madd/;valgrind --tool=cachegrind ./madd_nano 8192 8192 >& nano_with_loop.perf; grep 'D   refs\\|D1' nano_with_loop.perf\""
   ]
  },
  {
   "cell_type": "code",
   "execution_count": null,
   "id": "b9f89b3f-454a-456b-9c1c-b5b727ec6b76",
   "metadata": {},
   "outputs": [],
   "source": [
    "# Let's do some math here\n",
    "total_number_of_accesses_before_the_loop =  1527706\n",
    "total_number_of_accesses_after_the_loop = 1,548192\n",
    "total_number_of_accesses_in_the_loop = total_number_of_accesses_after_the_loop-total_number_of_accesses_before_the_loop\n",
    "total_number_of_misses_before_the_loop = 8530\n",
    "total_number_of_misses_after_the_loop = 29021\n",
    "total_number_of_misses_in_the_loop = total_number_of_misses_after_the_loop-total_number_of_misses_before_the_loop\n",
    "miss_rate_of_the_loop = total_number_of_misses_in_the_loop/total_number_of_accesses_in_the_loop\n",
    "\n",
    "print(f\"access in the loop: %d misses in the loop %d miss_rate %lf\" % (total_number_of_accesses_in_the_loop, total_number_of_misses_in_the_loop, miss_rate_of_the_loop))"
   ]
  },
  {
   "cell_type": "code",
   "execution_count": null,
   "id": "316a3596-4cff-47e1-a1ad-6101221266dd",
   "metadata": {},
   "outputs": [],
   "source": [
    "! cd 4way_madd; make madd_dump; cd ..; \n",
    "!echo \"element,address\"> addresses_madd.csv; \n",
    "!./4way_madd/madd_dump 8192 8192 2>> addresses_madd.csv\n",
    "! head -n 101 addresses_madd.csv > addresses_digest.csv\n",
    "df = pd.read_csv(\"addresses_digest.csv\",skipfooter=1,engine='python')\n",
    "df[\"address\"] = df[\"address\"].str.replace('0x','')\n",
    "df[\"address\"]=df[[\"address\"]].apply(lambda x: x.astype(str).map(lambda x: int(x, base=16)))\n",
    "# only show the first N addresses \n",
    "#N = 32\n",
    "#df2 = df2.iloc[:N]\n",
    "C = 32768\n",
    "B = 64\n",
    "A = 4\n",
    "offset_bits = int(math.log2(B))\n",
    "S = int(C/(B*A))\n",
    "index_bits = int(math.log2(S))\n",
    "df[\"tag\"]=(df[\"address\"].apply(lambda x: x >> (offset_bits+index_bits)))\n",
    "df[\"tag\"] = df[\"tag\"].apply(lambda x: hex(x))\n",
    "df[\"index\"] = df[\"address\"].apply(lambda x: hex((x>>offset_bits)%S))\n",
    "df[\"address\"] = df[\"address\"].apply(lambda x: hex(x))\n",
    "display_df_mono(df)"
   ]
  },
  {
   "cell_type": "markdown",
   "id": "200f5636-7870-4fc5-b4d5-1c789ef13926",
   "metadata": {
    "tags": []
   },
   "source": [
    "### AMD RyZen 5 5500 -- 8-way L1, 64B-blocked, 32KB cache\n",
    "\n",
    "Let's run it without the above loop code to figure the baseline memory accesses without running the loop on a Jetson nano.\n",
    "\n",
    "Let's again dump, parse and simulation the address sequence."
   ]
  },
  {
   "cell_type": "code",
   "execution_count": null,
   "id": "543321b6-72b4-4c45-8f76-d3cf8e7cec25",
   "metadata": {},
   "outputs": [],
   "source": [
    "! cd 4way_madd; make madd_dump; cd ..; \n",
    "! echo \"element,address\"> addresses_madd.csv; \n",
    "! cs203 job run \"./4way_madd/madd_dump 8192 8192 2>> addresses_madd.csv\"\n",
    "! head -n 101 addresses_madd.csv > addresses_digest.csv\n",
    "df = pd.read_csv(\"addresses_digest.csv\",skipfooter=1,engine='python')\n",
    "df[\"address\"] = df[\"address\"].str.replace('0x','')\n",
    "df[\"address\"]=df[[\"address\"]].apply(lambda x: x.astype(str).map(lambda x: int(x, base=16)))\n",
    "# only show the first N addresses \n",
    "#N = 32\n",
    "#df2 = df2.iloc[:N]\n",
    "C = 49152\n",
    "B = 64\n",
    "A = 12\n",
    "offset_bits = int(math.log2(B))\n",
    "S = int(C/(B*A))\n",
    "index_bits = int(math.log2(S))\n",
    "df[\"tag\"]=(df[\"address\"].apply(lambda x: x >> (offset_bits+index_bits)))\n",
    "df[\"tag\"] = df[\"tag\"].apply(lambda x: hex(x))\n",
    "df[\"index\"] = df[\"address\"].apply(lambda x: hex((x>>offset_bits) % S))\n",
    "df[\"address\"] = df[\"address\"].apply(lambda x: hex(x))\n",
    "display_df_mono(df)"
   ]
  },
  {
   "cell_type": "markdown",
   "id": "e4c84a71-0ae1-41f1-b346-4af2d28129ea",
   "metadata": {},
   "source": [
    "#### Run without the 4-way matrix add loop code."
   ]
  },
  {
   "cell_type": "code",
   "execution_count": null,
   "id": "ed97b8f4-eaac-46c5-b7ba-9e3d8d7ab2e1",
   "metadata": {
    "tags": []
   },
   "outputs": [],
   "source": [
    "# Run it \"without\" the above code.\n",
    "! cd ~/courses/CS203/demo/memory/4way_madd/\n",
    "! cs203 job run \"lscpu; rm ./4way_madd/madd_intel; make -C 4way_madd madd_intel; valgrind --tool=cachegrind ./4way_madd/madd_intel 16384 0 2>> amd_without_loop.perf\"\n",
    "! grep 'D   refs\\|D1' amd_without_loop.perf"
   ]
  },
  {
   "cell_type": "markdown",
   "id": "a15b3ab0-d1c1-4776-9223-9ca0867eac4b",
   "metadata": {},
   "source": [
    "Let's run it with the above loop code again and observe the changes in L1 cache misses/accesses\n",
    "\n",
    "#### Run with the 4-way matrix add loop code."
   ]
  },
  {
   "cell_type": "code",
   "execution_count": null,
   "id": "1d1188ca-a6f4-4f8c-9985-868f9d7d7cb9",
   "metadata": {},
   "outputs": [],
   "source": [
    "# Run it \"with\" the above code.\n",
    "! cs203 job run \"valgrind --tool=cachegrind ./4way_madd/madd_intel 16384 16384  2>> amd_with_loop.perf\"\n",
    "! grep 'D   refs\\|D1' amd_with_loop.perf"
   ]
  },
  {
   "cell_type": "code",
   "execution_count": null,
   "id": "eb1d55bd-37c6-4d42-b76b-d04baa50a388",
   "metadata": {},
   "outputs": [],
   "source": [
    "# Let's do some math here\n",
    "total_number_of_accesses_before_the_loop =2289801\n",
    "total_number_of_accesses_after_the_loop = 2330796\n",
    "total_number_of_accesses_in_the_loop = total_number_of_accesses_after_the_loop-total_number_of_accesses_before_the_loop\n",
    "total_number_of_misses_before_the_loop = 13544\n",
    "total_number_of_misses_after_the_loop = 23789\n",
    "total_number_of_misses_in_the_loop = total_number_of_misses_after_the_loop-total_number_of_misses_before_the_loop\n",
    "miss_rate_of_the_loop = total_number_of_misses_in_the_loop/total_number_of_accesses_in_the_loop\n",
    "\n",
    "print(f\"access in the loop: %d misses in the loop %d miss_rate %lf\" % (total_number_of_accesses_in_the_loop, total_number_of_misses_in_the_loop, miss_rate_of_the_loop))"
   ]
  },
  {
   "cell_type": "markdown",
   "id": "72e70bca-7676-4ce1-94ef-937bbc3c9a61",
   "metadata": {
    "tags": []
   },
   "source": [
    "### Intel Core i7 12700K -- 12-way L1, 64B-blocked, 48KB cache\n",
    "\n",
    "Let's run it without the above loop code to figure the baseline memory accesses without running the loop on a Jetson nano.\n",
    "\n",
    "Let's again dump, parse and simulation the address sequence."
   ]
  },
  {
   "cell_type": "code",
   "execution_count": null,
   "id": "fbf3b9b9-6407-4c72-864f-c13f9319eee7",
   "metadata": {},
   "outputs": [],
   "source": [
    "! cd 4way_madd; make madd_dump; cd ..; \n",
    "!echo \"element,address\"> addresses_madd.csv; \n",
    "!./4way_madd/madd_dump 8192 8192 2>> addresses_madd.csv\n",
    "! head -n 101 addresses_madd.csv > addresses_digest.csv\n",
    "df = pd.read_csv(\"addresses_digest.csv\",skipfooter=1,engine='python')\n",
    "df[\"address\"] = df[\"address\"].str.replace('0x','')\n",
    "df[\"address\"]=df[[\"address\"]].apply(lambda x: x.astype(str).map(lambda x: int(x, base=16)))\n",
    "# only show the first N addresses \n",
    "#N = 32\n",
    "#df2 = df2.iloc[:N]\n",
    "C = 49152\n",
    "B = 64\n",
    "A = 12\n",
    "offset_bits = int(math.log2(B))\n",
    "S = int(C/(B*A))\n",
    "index_bits = int(math.log2(S))\n",
    "df[\"tag\"]=(df[\"address\"].apply(lambda x: x >> (offset_bits+index_bits)))\n",
    "df[\"tag\"] = df[\"tag\"].apply(lambda x: hex(x))\n",
    "df[\"index\"] = df[\"address\"].apply(lambda x: hex((x>>offset_bits) % S))\n",
    "df[\"address\"] = df[\"address\"].apply(lambda x: hex(x))\n",
    "display_df_mono(df)"
   ]
  },
  {
   "cell_type": "markdown",
   "id": "5d38cf1d-d47c-48f1-96b6-1dfc68093a03",
   "metadata": {},
   "source": [
    "#### Run without the 4-way matrix add loop code."
   ]
  },
  {
   "cell_type": "code",
   "execution_count": null,
   "id": "fd8ea680-b118-4afc-98da-a61ce65e5f76",
   "metadata": {
    "tags": []
   },
   "outputs": [],
   "source": [
    "# Run it \"without\" the above code.\n",
    "! lscpu; cd ~/courses/CS203/demo/memory/4way_madd/; rm madd_intel; make madd_intel; valgrind --tool=cachegrind ./madd_intel 16384 0 >& intel_without_loop.perf; grep 'D   refs\\|D1' intel_without_loop.perf"
   ]
  },
  {
   "cell_type": "markdown",
   "id": "c5cf8a9a-895e-4462-a516-0afa05702d52",
   "metadata": {},
   "source": [
    "Let's run it with the above loop code again and observe the changes in L1 cache misses/accesses\n",
    "\n",
    "#### Run with the 4-way matrix add loop code."
   ]
  },
  {
   "cell_type": "code",
   "execution_count": null,
   "id": "9299bac2-ee48-4843-8675-388bc69edf50",
   "metadata": {},
   "outputs": [],
   "source": [
    "# Run it \"with\" the above code.\n",
    "! cd ~/courses/CS203/demo/memory/4way_madd/; valgrind --tool=cachegrind ./madd_intel 16384 16384  >& intel_with_loop.perf; grep 'D   refs\\|D1' intel_with_loop.perf"
   ]
  },
  {
   "cell_type": "code",
   "execution_count": null,
   "id": "f2604fdb-2174-4694-a21f-df29f493f19c",
   "metadata": {},
   "outputs": [],
   "source": [
    "# Let's do some math here\n",
    "total_number_of_accesses_before_the_loop =2285911\n",
    "total_number_of_accesses_after_the_loop = 2326877\n",
    "total_number_of_accesses_in_the_loop = total_number_of_accesses_after_the_loop-total_number_of_accesses_before_the_loop\n",
    "total_number_of_misses_before_the_loop = 13447\n",
    "total_number_of_misses_after_the_loop = 23694\n",
    "total_number_of_misses_in_the_loop = total_number_of_misses_after_the_loop-total_number_of_misses_before_the_loop\n",
    "miss_rate_of_the_loop = total_number_of_misses_in_the_loop/total_number_of_accesses_in_the_loop\n",
    "\n",
    "print(f\"access in the loop: %d misses in the loop %d miss_rate %lf\" % (total_number_of_accesses_in_the_loop, total_number_of_misses_in_the_loop, miss_rate_of_the_loop))"
   ]
  },
  {
   "cell_type": "markdown",
   "id": "97168f66-8620-4461-80af-27d23d4b08c2",
   "metadata": {},
   "source": [
    "## Prefetch\n",
    "\n",
    "x86 provide prefetch instructions. As a programmer, you may insert ```_mm_prefetch``` in x86 programs to perform software prefetch for your code. The gcc compiler also has a flag ```-fprefetch-loop-arrays``` to automatically insert software prefetch instructions.\n",
    "\n",
    "### Using prefetch in matrix transpose code\n",
    "\n",
    "The following example is a highly optimized matrix transpose code. In the example, we try to prefetch the next row."
   ]
  },
  {
   "cell_type": "code",
   "execution_count": null,
   "id": "b6118a25-c5fe-45ef-a387-5cd33e0aacde",
   "metadata": {},
   "outputs": [],
   "source": [
    "render_code(\"./prefetch/transpose.cpp\", lang=\"c++\", show=[\"//START\", \"//END\"])"
   ]
  },
  {
   "cell_type": "markdown",
   "id": "98ebde36-3c05-47a0-b216-cc6121c2e79c",
   "metadata": {},
   "source": [
    "Now, let's take a look of what's happening!"
   ]
  },
  {
   "cell_type": "code",
   "execution_count": null,
   "id": "9714a8a0-0a7f-4d92-853d-1b885cdf0251",
   "metadata": {},
   "outputs": [],
   "source": [
    "! cd prefetch; make clean; make\n",
    "! echo \"Without prefetch -- the baseline\"; ssh htseng@celebi \"lscpu | grep Model; cd courses/CS203/demo/memory/prefetch/; ./transpose\""
   ]
  },
  {
   "cell_type": "code",
   "execution_count": null,
   "id": "c78410a6-cbf0-4e23-9199-00e3a81a5b26",
   "metadata": {},
   "outputs": [],
   "source": [
    "! echo \"With prefetch\"; ssh htseng@celebi \" cd courses/CS203/demo/memory/prefetch/; ./transpose_prefetch\""
   ]
  },
  {
   "cell_type": "markdown",
   "id": "c136ba57-c3ae-44c5-b91d-9871bc1bc968",
   "metadata": {},
   "source": [
    "\n",
    "Let's try a different machine now.\n"
   ]
  },
  {
   "cell_type": "code",
   "execution_count": null,
   "id": "5c469886-bf6a-4674-af73-f737d96a3093",
   "metadata": {},
   "outputs": [],
   "source": [
    "! cd prefetch; make clean; make; lscpu | grep Model\n",
    "! echo \"Without prefetch -- the baseline\"; cd prefetch/; ./transpose\n",
    "! echo \"With prefetch\"; cd prefetch/; ./transpose_prefetch"
   ]
  },
  {
   "cell_type": "markdown",
   "id": "850ec2f3-3d18-41fd-8692-8e3f0a5e4c66",
   "metadata": {},
   "source": [
    "-- It doesn't work always!"
   ]
  }
 ],
 "metadata": {
  "kernelspec": {
   "display_name": "Python 3 (ipykernel)",
   "language": "python",
   "name": "python3"
  },
  "language_info": {
   "codemirror_mode": {
    "name": "ipython",
    "version": 3
   },
   "file_extension": ".py",
   "mimetype": "text/x-python",
   "name": "python",
   "nbconvert_exporter": "python",
   "pygments_lexer": "ipython3",
   "version": "3.8.10"
  },
  "toc-autonumbering": true,
  "toc-showcode": false,
  "toc-showmarkdowntxt": false,
  "widgets": {
   "application/vnd.jupyter.widget-state+json": {
    "state": {},
    "version_major": 2,
    "version_minor": 0
   }
  }
 },
 "nbformat": 4,
 "nbformat_minor": 5
}
