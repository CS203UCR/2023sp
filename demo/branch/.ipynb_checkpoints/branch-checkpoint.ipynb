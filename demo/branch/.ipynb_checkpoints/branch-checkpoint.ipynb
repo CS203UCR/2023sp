{
 "cells": [
  {
   "cell_type": "code",
   "execution_count": null,
   "id": "5fba9235-2566-45b7-8f4b-6fef88889ab8",
   "metadata": {},
   "outputs": [],
   "source": [
    "%load_ext autoreload\n",
    "%autoreload 2\n",
    "from notebook import *\n",
    "# if get something about NUMEXPR_MAX_THREADS being set incorrectly, don't worry.  It's not a problem."
   ]
  },
  {
   "cell_type": "markdown",
   "id": "914e93f7-59f9-4554-92d7-b26d39b1e53c",
   "metadata": {},
   "source": [
    "# Branch and branch predictions\n",
    "\n",
    "## Why do we have \"branches\" in code?\n",
    "\n",
    "Consider the following code snippet, how does the compiler translate to instructions?"
   ]
  },
  {
   "cell_type": "code",
   "execution_count": null,
   "id": "8a8112bd-8bda-4296-afc8-aff177f8a456",
   "metadata": {},
   "outputs": [],
   "source": [
    "render_code(\"loop.c\", show=\"loop0\")"
   ]
  },
  {
   "cell_type": "code",
   "execution_count": null,
   "id": "43624482-c917-4760-8155-9e56d5f2be2f",
   "metadata": {},
   "outputs": [],
   "source": [
    "! gcc -S -O0 loop.c\n",
    "render_code(\"loop.s\", show=[\"loop0\",\"LFE23\"])"
   ]
  },
  {
   "cell_type": "code",
   "execution_count": null,
   "id": "1782b24a-d792-4e33-8f73-5a4f645e8849",
   "metadata": {},
   "outputs": [],
   "source": [
    "! gcc -S -O2 loop.c\n",
    "render_code(\"loop.s\", show=[\"loop1\",\"LFE24\"])"
   ]
  },
  {
   "cell_type": "code",
   "execution_count": null,
   "id": "bcd2c5fa-6064-45fa-9a71-7d03c96b8dfd",
   "metadata": {},
   "outputs": [],
   "source": [
    "! gcc -S -O2 loop.c\n",
    "render_code(\"loop.s\", show=[\"loop2\",\"LFE25\"])"
   ]
  },
  {
   "cell_type": "markdown",
   "id": "2d8f70d8-eab2-4a17-84cc-a3cd6385dcaf",
   "metadata": {},
   "source": [
    "## Sorting and branch miss rates\n",
    "\n",
    "Do you remember this?"
   ]
  },
  {
   "cell_type": "code",
   "execution_count": null,
   "id": "75d68adb-df0f-4254-b662-8189854b5944",
   "metadata": {},
   "outputs": [],
   "source": [
    "compare([do_render_code(\"arraySort.cpp\",show=[\"//START\",\"//END\"]),do_render_code(\"calculate_sum.c\", show=\"calculate_sum\")])"
   ]
  },
  {
   "cell_type": "code",
   "execution_count": null,
   "id": "29ed7d7b-abdd-48b3-94fc-2d8d2e0fb11c",
   "metadata": {},
   "outputs": [],
   "source": [
    "! make clean; make\n",
    "! echo \"size,iterations,sorted,IC,Cycles,CPI,CT,ET,L1_dcache_miss_rate,L1_dcache_misses,L1_dcache_accesses,branches,branch_misses\" > stats.csv\n",
    "! echo -n \"131072,1000,0,\" >> stats.csv\n",
    "! cs203 job memory \"./arraySort 131072 1000 0\"\n",
    "! echo -n \"131072,1000,1,\" >> stats.csv\n",
    "! cs203 job memory \"./arraySort 131072 1000 1\""
   ]
  },
  {
   "cell_type": "code",
   "execution_count": null,
   "id": "15910cc1-11b0-4c3e-a11d-f9670c61e16b",
   "metadata": {},
   "outputs": [],
   "source": [
    "display_df_mono(render_csv(\"stats.csv\"))"
   ]
  },
  {
   "cell_type": "markdown",
   "id": "bc73398e-9616-4349-a133-cea6c1db75d2",
   "metadata": {},
   "source": [
    "What did we learn?\n",
    "\n",
    "The CPI is ??? smaller with data sorted (including sorting itself)\n",
    "\n",
    "The ET is ??? faster with data sorted (including sorting itself)\n",
    "\n",
    "What's the cost of branch misses?\n",
    "\n",
    "Let's exclude the sorting part and do it again."
   ]
  },
  {
   "cell_type": "code",
   "execution_count": null,
   "id": "98ded029-ff36-4d4d-bfd2-e52b6db2991c",
   "metadata": {},
   "outputs": [],
   "source": [
    "! make clean; make\n",
    "! echo \"size,iterations,sorted,IC,Cycles,CPI,CT,ET,L1_dcache_miss_rate,L1_dcache_misses,L1_dcache_accesses,branches,branch_misses\" > stats.csv\n",
    "! echo -n \"131072,1000,0,\" >> stats.csv\n",
    "! cs203 job memory \"./arraySort 131072 1000 0\"\n",
    "! echo -n \"131072,1000,1,\" >> stats.csv\n",
    "! cs203 job memory \"./arraySort 131072 1000 1\"\n",
    "display_df_mono(render_csv(\"stats.csv\"))"
   ]
  },
  {
   "cell_type": "code",
   "execution_count": null,
   "id": "3edc61a2-87b1-4b33-907c-45f6ed504453",
   "metadata": {},
   "outputs": [],
   "source": [
    "Diff_Misses = 36482266-5660\n",
    "Diff_Cycles = 2135192468-898505334\n",
    "print(Diff_Cycles/Diff_Misses)"
   ]
  },
  {
   "cell_type": "code",
   "execution_count": null,
   "id": "475c6c12-dbf4-4139-94e6-cc8e61909d42",
   "metadata": {},
   "outputs": [],
   "source": []
  }
 ],
 "metadata": {
  "kernelspec": {
   "display_name": "Python 3 (ipykernel)",
   "language": "python",
   "name": "python3"
  },
  "language_info": {
   "codemirror_mode": {
    "name": "ipython",
    "version": 3
   },
   "file_extension": ".py",
   "mimetype": "text/x-python",
   "name": "python",
   "nbconvert_exporter": "python",
   "pygments_lexer": "ipython3",
   "version": "3.8.10"
  },
  "widgets": {
   "application/vnd.jupyter.widget-state+json": {
    "state": {},
    "version_major": 2,
    "version_minor": 0
   }
  }
 },
 "nbformat": 4,
 "nbformat_minor": 5
}
